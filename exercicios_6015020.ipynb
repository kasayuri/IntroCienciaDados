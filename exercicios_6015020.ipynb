{
  "nbformat": 4,
  "nbformat_minor": 0,
  "metadata": {
    "colab": {
      "provenance": [],
      "authorship_tag": "ABX9TyMkwtQ7xWh7Fbr/hNLP/kR+",
      "include_colab_link": true
    },
    "kernelspec": {
      "name": "python3",
      "display_name": "Python 3"
    },
    "language_info": {
      "name": "python"
    }
  },
  "cells": [
    {
      "cell_type": "markdown",
      "metadata": {
        "id": "view-in-github",
        "colab_type": "text"
      },
      "source": [
        "<a href=\"https://colab.research.google.com/github/kasayuri/IntroCienciaDados/blob/main/exercicios_6015020.ipynb\" target=\"_parent\"><img src=\"https://colab.research.google.com/assets/colab-badge.svg\" alt=\"Open In Colab\"/></a>"
      ]
    },
    {
      "cell_type": "markdown",
      "source": [
        "# Intro\n",
        "Exercícios Propostos\n",
        "\n",
        "Para realizar os exercícios assistam ao vídeo \"Anaconda Installation\" no portal do curso\n",
        "http://seriema.fcfrp.usp.br/elearn\n",
        "\n",
        "Ter a plataforma instalada instalada no computador é parte da prática.\n",
        "\n",
        "A necessidade de instalar pacotes faz parte dos exercícios.\n",
        "\n",
        "Criem um notebook que inclui o resultado dos exercícios. O notebook no formato .ipynb deverá ser entregue na data estabelecida com todas as respostas. Será inspecionado se o código é idêntico, e os alunos serão questionados em caso positivo.\n",
        "\n",
        "\n",
        "- 1 - Estruturas de dados\t1\n",
        "- 2 - Estruturas de Decisão\t2\n",
        "- 3 - Estruturas de Repetição\t3\n",
        "- 4 - Funções\t4\n",
        "- 5 - Numpy\t4\n",
        "- 6 - Pandas\t4\n",
        "- 7 - Regressão\t5\n",
        "- 8 - Classificação\t5\n",
        "- 9 - Agrupamento\t6\n",
        "- 10 - Referências\t6\n"
      ],
      "metadata": {
        "id": "zjAYqkodivYm"
      }
    },
    {
      "cell_type": "markdown",
      "source": [
        "#1 - Estruturas de dados\n",
        "\n",
        "1 - Crie uma lista de temperaturas de dez países\n",
        "https://pt.wikipedia.org/wiki/Lista_de_pa%C3%ADses_por_extremos_meteorol%C3%B3gicos\n",
        "Escreva em cada célula de um notebook o acesso a elementos da lista para calcular a temperatura em graus Farenheit:\n",
        "\n",
        "C = (5 * (F-32) / 9).\n"
      ],
      "metadata": {
        "id": "GPuSpQL5i30Z"
      }
    },
    {
      "cell_type": "markdown",
      "source": [
        "2 - Tendo como dados de entrada a altura média por país\n",
        "https://pt.wikipedia.org/wiki/Estatura\n",
        "crie um dicionário com 10 países, com chave como nome do país e valor como altura média, imprima em cada linha de um notebook o peso ideal:\n",
        "\n",
        "(72.7*altura) - 58\n",
        "\n",
        "por país, utilizando o dicionário e o operador de formatação (f'').\n"
      ],
      "metadata": {
        "id": "JF-DoyWXlRlH"
      }
    },
    {
      "cell_type": "markdown",
      "source": [
        "3 - Faça a conversão do valor de bolsas de pós-graduação de três países para Reais, imprimindo o salário de uma jornada de 40h semanais:\n",
        "https://exame.abril.com.br/carreira/confira-63-bolsas-para-estudar-em-paises-como-canada-eua-e-alemanha/\n",
        "\n",
        "- Por hora trabalhada;\n",
        "\n",
        "- Por mês;\n",
        "\n",
        "- Por ano."
      ],
      "metadata": {
        "id": "7Z0NjpCtlKcK"
      }
    },
    {
      "cell_type": "markdown",
      "source": [
        "# 2 - Estruturas de Decisão\n",
        "\n"
      ],
      "metadata": {
        "id": "neT8Br0NjAly"
      }
    },
    {
      "cell_type": "markdown",
      "source": [
        "1 - Escreva código em uma célula, para, dado o elemento de uma lista de temperaturas acima, imprimir \"está frio\" se a temperatura for menor que um valor de uma variável t definida por você ou \"está calor\" caso contrário.\n"
      ],
      "metadata": {
        "id": "qWEMcICMlire"
      }
    },
    {
      "cell_type": "markdown",
      "source": [
        "2 - Um posto está vendendo combustíveis com a seguinte tabela de descontos:\n",
        "Álcool:\n",
        "até 20 litros, desconto de 3% por litro\n",
        "acima de 20 litros, desconto de 5% por litro\n",
        "Gasolina:\n",
        "até 20 litros, desconto de 4% por litro\n",
        "acima de 20 litros, desconto de 6% por litro\n",
        "Escreva um código que leia o número de litros vendidos, o tipo de combustível (codificado da seguinte forma: A-álcool, G-gasolina), calcule e imprima o valor a ser pago pelo cliente sabendo-se que o preço do litro da gasolina é R$ 2,50 o preço do litro do álcool é R$ 1,90.\n"
      ],
      "metadata": {
        "id": "124skiBulliw"
      }
    },
    {
      "cell_type": "markdown",
      "source": [
        "3 - Uma fruteira está vendendo frutas com a seguinte tabela de preços:\n",
        "\n",
        "\n",
        "| Fruta | Até 5 Kg | Acima de 5 Kg |\n",
        "| --- | --- | --- |\n",
        "| Morango | RS 2,50 por Kg | RS 2,20 por Kg |\n",
        "| Maçã | RS 1,80 por Kg | RS 1,50 por Kg |\n",
        "\n",
        "\n",
        "\n",
        "\n",
        "Se o cliente comprar mais de 8 Kg em frutas ou o valor total da compra ultrapassar R$ 25,00, receberá ainda um desconto de 10% sobre este total. Escreva código para ler a quantidade (em Kg) de morangos e a quantidade (em Kg) de maças adquiridas e escreva o valor a ser pago pelo cliente.\n"
      ],
      "metadata": {
        "id": "buptg8wflnAN"
      }
    },
    {
      "cell_type": "markdown",
      "source": [
        "# 3 - Estruturas de Repetição\n",
        "\n",
        "\n"
      ],
      "metadata": {
        "id": "rTUAuC5KjWWA"
      }
    },
    {
      "cell_type": "markdown",
      "source": [
        "1 - Desenvolva um gerador de tabuada, capaz de gerar a tabuada de qualquer número inteiro entre 1 a 10. Dada uma variável k em uma célula calcular a tabuada para o número. A saída deve ser conforme o exemplo abaixo:\n",
        "\n",
        "Tabuada de 5:\n",
        "\n",
        "5 X 1 = 5\n",
        "\n",
        "5 X 2 = 10\n",
        "\n",
        "…\n",
        "\n",
        "5 X 10 = 50\n"
      ],
      "metadata": {
        "id": "np0V-9lNmSE9"
      }
    },
    {
      "cell_type": "markdown",
      "source": [
        "2 - Utilize uma estrutura de repetição para imprimir todos os elementos das listas de temperatura e altura criadas acima."
      ],
      "metadata": {
        "id": "5x8NzMIumTk2"
      }
    },
    {
      "cell_type": "markdown",
      "source": [
        "3 - Acesse chaves e valores do dicionário criado acima, e imprima cada item utilizando o operador de formatação."
      ],
      "metadata": {
        "id": "kUDED0jImU-K"
      }
    },
    {
      "cell_type": "markdown",
      "source": [
        "# 4 - Funções\n"
      ],
      "metadata": {
        "id": "2vO8GUt7jxRx"
      }
    },
    {
      "cell_type": "markdown",
      "source": [
        "1 - Faça uma função que retorne o reverso de um número inteiro informado. Por exemplo: 127 -> 721.\n"
      ],
      "metadata": {
        "id": "xwQff7PhkqgG"
      }
    },
    {
      "cell_type": "markdown",
      "source": [
        "2 - Faça uma função para converter, que dado um valor numérico de temperatura e um valor de caractere para a escala (Celsius ou Farenheit) converta o número para a escala desejada e retorna o valor."
      ],
      "metadata": {
        "id": "M-DmkIJCnNyr"
      }
    },
    {
      "cell_type": "markdown",
      "source": [
        "3 - Faça uma programa que converta da notação de 24 horas para a notação de 12 horas. Por exemplo, o programa deve converter 14:25 em 2:25 P.M. A entrada é dada em dois inteiros.\n"
      ],
      "metadata": {
        "id": "sUGhrN3LnL9f"
      }
    },
    {
      "cell_type": "markdown",
      "source": [
        "# 5 - Numpy"
      ],
      "metadata": {
        "id": "JTzls-hBj0Kf"
      }
    },
    {
      "cell_type": "markdown",
      "source": [
        "1 - Escreva código para criar uma matriz 4 x 10, com números simulados de uma distribuição normal com média 10 e variância 5, e substitua todos os elementos da primeira coluna maiores que 12 por 0.  \n",
        "\n"
      ],
      "metadata": {
        "id": "_6joCw8Gme2T"
      }
    },
    {
      "cell_type": "markdown",
      "source": [
        "\n",
        "2 - Crie uma matriz 3x3 com 3 alturas de 3 países e calcule o peso ideal (fórmula acima) para multiplicar e somar aos elementos da matriz."
      ],
      "metadata": {
        "id": "4PiF1MPbnGP6"
      }
    },
    {
      "cell_type": "markdown",
      "source": [
        "3 - Faça uma função que recebe dois parâmetros, uma matriz numpy e uma constante, e utiliza estruturas de repetição para multiplicar cada elemento da matriz e retorna a matriz multiplicada."
      ],
      "metadata": {
        "id": "wz1B3OFZnE_f"
      }
    },
    {
      "cell_type": "markdown",
      "source": [
        "# 6 - Pandas\n",
        "\n",
        "Utilizando o conjunto de dados\n",
        "https://drive.google.com/open?id=1u1SEDTja9QC7MAj_VlQcxNtAhQfs-5YR"
      ],
      "metadata": {
        "id": "23gMbX3fj0fH"
      }
    },
    {
      "cell_type": "markdown",
      "source": [
        "1 - Faça uma função, que dado um dataframe com os dados acima. imprime a média e o desvio padrão das variáveis 'season' e 'holiday'.   \n",
        "\n",
        "\n",
        "\n"
      ],
      "metadata": {
        "id": "C43hCCOemknY"
      }
    },
    {
      "cell_type": "markdown",
      "source": [
        "\n",
        "2 - Crie uma nova coluna no dataframe, com o nome 'month' com o mês correspondente de cada linha da coluna 'datetime' e escreva uma função que dado um dataframe, e um valor numérico entre 1 e 12, retorna um sub-dataframe para o mês requerido."
      ],
      "metadata": {
        "id": "BG2lCJiCm6Bi"
      }
    },
    {
      "cell_type": "markdown",
      "source": [
        "3 - Faça um histograma da variável 'temp' e um boxplot único com a variável 'temp' em cada 'month' (no eixo x)."
      ],
      "metadata": {
        "id": "5iMsfhtym1sU"
      }
    },
    {
      "cell_type": "markdown",
      "source": [
        "# 7 - Regressão"
      ],
      "metadata": {
        "id": "h34bXDZUj0uT"
      }
    },
    {
      "cell_type": "markdown",
      "source": [
        "Incluir o conjunto de dados na entrega do notebook.\n",
        "\n",
        "Em uma célula do mesmo notebook crie um texto com markdown, incluindo formatação com títulos, negrito, itálico e inclusão de figuras para explicar:\n",
        "\n",
        "Explique simplificadamente o que é o modelo de regressão e quando estes modelos podem ser utilizados.\n",
        "Apresente um pequeno exemplo numérico utilizando o que foi aprendido no curso, utilizando um conjunto de dados que não foi visto no curso (pode ser de qualquer lugar na internet) e imprimindo os seguintes resultados:\n",
        "\n",
        "R2\n",
        "Coeficientes da regressão\n",
        "\n",
        "E fazendo um gráfico com a variável resposta (eixo y) uma das variáveis preditoras (eixo x) e a reta da regressão.\n",
        "\n",
        "*Os conjuntos de dados devem ser diferentes entre os alunos\n"
      ],
      "metadata": {
        "id": "TsCIcJ2zmqhQ"
      }
    },
    {
      "cell_type": "markdown",
      "source": [
        "# 8 - Classificação"
      ],
      "metadata": {
        "id": "A3f6q-b7j0-O"
      }
    },
    {
      "cell_type": "markdown",
      "source": [
        "Incluir o conjunto de dados na entrega do notebook.\n",
        "\n",
        "Em uma célula do mesmo notebook crie um texto com markdown, incluindo formatação com títulos, negrito, itálico e inclusão de figuras para explicar:\n",
        "\n",
        "Explique simplificadamente o que é o modelo de classificação e quando estes modelos podem ser utilizados.\n",
        "Apresente um pequeno exemplo numérico utilizando o que foi aprendido no curso, utilizando um conjunto de dados que não foi visto no curso (pode ser de qualquer lugar na internet) e imprimindo, utilizando validação cruzada, os seguintes resultados:\n",
        "Acurácia\n",
        "Matriz de confusão\n",
        "\n",
        "*Os conjuntos de dados devem ser diferentes entre os alunos\n"
      ],
      "metadata": {
        "id": "aB_mr03nmt3s"
      }
    },
    {
      "cell_type": "markdown",
      "source": [
        "# 9 - Agrupamento"
      ],
      "metadata": {
        "id": "4eoLO04qj1N9"
      }
    },
    {
      "cell_type": "markdown",
      "source": [
        "Incluir o conjunto de dados na entrega do notebook.\n",
        "\n",
        "Em uma célula do mesmo notebook crie um texto com markdown, incluindo formatação com títulos, negrito, itálico e inclusão de figuras para explicar:\n",
        "\n",
        "Explique simplificadamente o que é o modelo de Análise de Componentes Principais (PCA) e quando estes modelos podem ser utilizados.\n",
        "Apresente um pequeno exemplo numérico utilizando o que foi aprendido no curso, utilizando um conjunto de dados que não foi visto no curso (pode ser de qualquer lugar na internet) e imprimindo, os seguintes resultados:\n",
        "Variância explicada por cada componente\n",
        "\n",
        "Faça um gráfico com os scores do PCA colorindo pelos grupos do seu conjunto de dados.\n",
        "\n",
        "*Os conjuntos de dados devem ser diferentes entre os alunos\n"
      ],
      "metadata": {
        "id": "hwC9JMLjmwa_"
      }
    },
    {
      "cell_type": "markdown",
      "source": [
        "# 10 - Referências"
      ],
      "metadata": {
        "id": "khPPxpyGj1yv"
      }
    },
    {
      "cell_type": "markdown",
      "source": [
        "https://wiki.python.org.br/ListaDeExercicios"
      ],
      "metadata": {
        "id": "WPf4gJZOkDiU"
      }
    },
    {
      "cell_type": "markdown",
      "source": [],
      "metadata": {
        "id": "jcp6CQnwkDWY"
      }
    }
  ]
}