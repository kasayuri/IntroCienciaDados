{
  "cells": [
    {
      "cell_type": "markdown",
      "metadata": {
        "colab_type": "text",
        "id": "view-in-github"
      },
      "source": [
        "<a href=\"https://colab.research.google.com/github/kasayuri/IntroCienciaDados/blob/main/exercicios_6015020.ipynb\" target=\"_parent\"><img src=\"https://colab.research.google.com/assets/colab-badge.svg\" alt=\"Open In Colab\"/></a>"
      ]
    },
    {
      "cell_type": "markdown",
      "metadata": {
        "id": "zjAYqkodivYm"
      },
      "source": [
        "# Intro\n",
        "Exercícios Propostos\n",
        "\n",
        "Para realizar os exercícios assistam ao vídeo \"Anaconda Installation\" no portal do curso\n",
        "http://seriema.fcfrp.usp.br/elearn\n",
        "\n",
        "Ter a plataforma instalada instalada no computador é parte da prática.\n",
        "\n",
        "A necessidade de instalar pacotes faz parte dos exercícios.\n",
        "\n",
        "Criem um notebook que inclui o resultado dos exercícios. O notebook no formato .ipynb deverá ser entregue na data estabelecida com todas as respostas. Será inspecionado se o código é idêntico, e os alunos serão questionados em caso positivo.\n",
        "\n",
        "\n",
        "- 1 - Estruturas de dados\t1\n",
        "- 2 - Estruturas de Decisão\t2\n",
        "- 3 - Estruturas de Repetição\t3\n",
        "- 4 - Funções\t4\n",
        "- 5 - Numpy\t4\n",
        "- 6 - Pandas\t4\n",
        "- 7 - Regressão\t5\n",
        "- 8 - Classificação\t5\n",
        "- 9 - Agrupamento\t6\n",
        "- 10 - Referências\t6\n"
      ]
    },
    {
      "cell_type": "markdown",
      "metadata": {
        "id": "GPuSpQL5i30Z"
      },
      "source": [
        "#1 - Estruturas de dados\n",
        "\n",
        "1 - Crie uma lista de temperaturas de dez países\n",
        "https://pt.wikipedia.org/wiki/Lista_de_pa%C3%ADses_por_extremos_meteorol%C3%B3gicos\n",
        "Escreva em cada célula de um notebook o acesso a elementos da lista para calcular a temperatura em graus Farenheit:\n",
        "\n",
        "C = (5 * (F-32) / 9).\n"
      ]
    },
    {
      "cell_type": "code",
      "execution_count": 37,
      "metadata": {},
      "outputs": [
        {
          "name": "stdout",
          "output_type": "stream",
          "text": [
            "A temperatura 50.0ºC em Fahrenheit é 122.00ºF.\n",
            "A temperatura 51.3ºC em Fahrenheit é 124.34ºF.\n",
            "A temperatura 44.0ºC em Fahrenheit é 111.20ºF.\n",
            "A temperatura 47.2ºC em Fahrenheit é 116.96ºF.\n",
            "A temperatura 47.6ºC em Fahrenheit é 117.68ºF.\n",
            "A temperatura 51.0ºC em Fahrenheit é 123.80ºF.\n",
            "A temperatura 43.3ºC em Fahrenheit é 109.94ºF.\n",
            "A temperatura 48.2ºC em Fahrenheit é 118.76ºF.\n",
            "A temperatura 46.4ºC em Fahrenheit é 115.52ºF.\n",
            "A temperatura 49.7ºC em Fahrenheit é 121.46ºF.\n"
          ]
        }
      ],
      "source": [
        "listaTemperaturas = [50.0, 51.3, 44.0, 47.2, 47.6, 51.0, 43.3, 48.2, 46.4, 49.7]\n",
        "\n",
        "for tempMax in listaTemperaturas:\n",
        "    fahrenheit = (tempMax * 9/5) + 32\n",
        "    print(f\"A temperatura {tempMax}ºC em Fahrenheit é {fahrenheit:.2f}ºF.\")\n"
      ]
    },
    {
      "cell_type": "markdown",
      "metadata": {
        "id": "JF-DoyWXlRlH"
      },
      "source": [
        "2 - Tendo como dados de entrada a altura média por país\n",
        "https://pt.wikipedia.org/wiki/Estatura\n",
        "crie um dicionário com 10 países, com chave como nome do país e valor como altura média, imprima em cada linha de um notebook o peso ideal:\n",
        "\n",
        "(72.7*altura) - 58\n",
        "\n",
        "por país, utilizando o dicionário e o operador de formatação (f'').\n"
      ]
    },
    {
      "cell_type": "code",
      "execution_count": 32,
      "metadata": {},
      "outputs": [
        {
          "name": "stdout",
          "output_type": "stream",
          "text": [
            "O peso ideal de Alemanha é 120.10kg.\n",
            "O peso ideal de Brasil é 114.29kg.\n",
            "O peso ideal de Peru é 112.42kg.\n",
            "O peso ideal de Coreia do Norte é 111.45kg.\n",
            "O peso ideal de Finlândia é 119.16kg.\n",
            "O peso ideal de Suécia é 120.83kg.\n",
            "O peso ideal de Malawi é 112.11kg.\n",
            "O peso ideal de Alpes Dináricos é 123.52kg.\n",
            "O peso ideal de Indonésia é 112.40kg.\n",
            "O peso ideal de Singapura é 115.74kg.\n"
          ]
        }
      ],
      "source": [
        "paises = ['Alemanha', 'Brasil', 'Peru', 'Coreia do Norte', 'Finlândia', 'Suécia', 'Malawi', 'Alpes Dináricos', 'Indonésia', 'Singapura']\n",
        "alturaMediaMulheres = [166.0, 158.0, 155.44, 154.1, 164.7, 167.0, 155.0, 170.7, 155.4, 160.0]\n",
        "dictAlturas = dict(zip(paises, alturaMediaMulheres))\n",
        "\n",
        "for key, value in dictAlturas.items():\n",
        "    print(f\"O peso ideal de {key} é { ((value * 72.7) - 58)/ 100:.2f}kg.\")\n"
      ]
    },
    {
      "cell_type": "markdown",
      "metadata": {
        "id": "7Z0NjpCtlKcK"
      },
      "source": [
        "3 - Faça a conversão do valor de bolsas de pós-graduação de três países para Reais, imprimindo o salário de uma jornada de 40h semanais:\n",
        "https://exame.abril.com.br/carreira/confira-63-bolsas-para-estudar-em-paises-como-canada-eua-e-alemanha/\n",
        "\n",
        "- Por hora trabalhada;\n",
        "\n",
        "- Por mês;\n",
        "\n",
        "- Por ano."
      ]
    },
    {
      "cell_type": "markdown",
      "metadata": {},
      "source": [
        "Alemanha - DAAD - €750 / mês\n",
        "Dinamarca - 6500 coroas dinamarquesas / mês\n",
        "Reino Unido - Oxford - 2500 libras para mestrado / mês"
      ]
    },
    {
      "cell_type": "code",
      "execution_count": null,
      "metadata": {},
      "outputs": [],
      "source": []
    },
    {
      "cell_type": "markdown",
      "metadata": {
        "id": "neT8Br0NjAly"
      },
      "source": [
        "# 2 - Estruturas de Decisão\n",
        "\n"
      ]
    },
    {
      "cell_type": "markdown",
      "metadata": {
        "id": "qWEMcICMlire"
      },
      "source": [
        "1 - Escreva código em uma célula, para, dado o elemento de uma lista de temperaturas acima, imprimir \"está frio\" se a temperatura for menor que um valor de uma variável t definida por você ou \"está calor\" caso contrário.\n"
      ]
    },
    {
      "cell_type": "code",
      "execution_count": 10,
      "metadata": {},
      "outputs": [
        {
          "name": "stdout",
          "output_type": "stream",
          "text": [
            "Está frio: 10.0ºC\n",
            "Está quente: 21.3ºC\n",
            "Está quente: 34.0ºC\n",
            "Está quente: 37.2ºC\n",
            "Está quente: 27.6ºC\n",
            "Está frio: 11.0ºC\n",
            "Está quente: 33.3ºC\n",
            "Está quente: 18.2ºC\n",
            "Está quente: 26.4ºC\n",
            "Está frio: 9.7ºC\n"
          ]
        }
      ],
      "source": [
        "listaTemperaturas = [10.0, 21.3, 34.0, 37.2, 27.6, 11.0, 33.3, 18.2, 26.4, 9.7]\n",
        "t = 13\n",
        "for i in range(len(listaTemperaturas)):\n",
        "    descricao = 'frio'\n",
        "    if listaTemperaturas[i] > t:\n",
        "        descricao = 'quente'\n",
        "\n",
        "    print(f'Está {descricao}: {listaTemperaturas[i]}ºC')"
      ]
    },
    {
      "cell_type": "markdown",
      "metadata": {
        "id": "124skiBulliw"
      },
      "source": [
        "2 - Um posto está vendendo combustíveis com a seguinte tabela de descontos:\n",
        "Álcool:\n",
        "até 20 litros, desconto de 3% por litro\n",
        "acima de 20 litros, desconto de 5% por litro\n",
        "Gasolina:\n",
        "até 20 litros, desconto de 4% por litro\n",
        "acima de 20 litros, desconto de 6% por litro\n",
        "Escreva um código que leia o número de litros vendidos, o tipo de combustível (codificado da seguinte forma: A-álcool, G-gasolina), calcule e imprima o valor a ser pago pelo cliente sabendo-se que o preço do litro da gasolina é R$ 2,50 o preço do litro do álcool é R$ 1,90.\n"
      ]
    },
    {
      "cell_type": "code",
      "execution_count": 2,
      "metadata": {},
      "outputs": [
        {
          "name": "stdout",
          "output_type": "stream",
          "text": [
            "Username is: oi\n"
          ]
        }
      ],
      "source": [
        "username = input(\"Enter username:\")\n",
        "print(\"Username is: \" + username)"
      ]
    },
    {
      "cell_type": "markdown",
      "metadata": {
        "id": "buptg8wflnAN"
      },
      "source": [
        "3 - Uma fruteira está vendendo frutas com a seguinte tabela de preços:\n",
        "\n",
        "\n",
        "| Fruta | Até 5 Kg | Acima de 5 Kg |\n",
        "| --- | --- | --- |\n",
        "| Morango | RS 2,50 por Kg | RS 2,20 por Kg |\n",
        "| Maçã | RS 1,80 por Kg | RS 1,50 por Kg |\n",
        "\n",
        "\n",
        "\n",
        "\n",
        "Se o cliente comprar mais de 8 Kg em frutas ou o valor total da compra ultrapassar R$ 25,00, receberá ainda um desconto de 10% sobre este total. Escreva código para ler a quantidade (em Kg) de morangos e a quantidade (em Kg) de maças adquiridas e escreva o valor a ser pago pelo cliente.\n"
      ]
    },
    {
      "cell_type": "code",
      "execution_count": 16,
      "metadata": {},
      "outputs": [
        {
          "name": "stdout",
          "output_type": "stream",
          "text": [
            "Foi informado 4.0Kg de morangos.\n",
            "Foi informado 4.0Kg de maçãs.\n",
            "Houve um desconto adicional de 10% no valor total.\n",
            "\n",
            "O valor total é de R$15.48.\n"
          ]
        }
      ],
      "source": [
        "PRECO_KG_MORANGO = 2.5\n",
        "PRECO_KG_MACA = 1.8\n",
        "DESCONTO = 0.3\n",
        "\n",
        "peso_morangos = float(input('Informe a quantidade de morangos (em Kg):'))\n",
        "print(f'Foi informado {peso_morangos}Kg de morangos.')\n",
        "peso_macas = float(input('Informe a quantidade de maçãs (em Kg):'))\n",
        "print(f'Foi informado {peso_macas}Kg de maçãs.')\n",
        "\n",
        "if peso_morangos >= 5:\n",
        "    print(f'O peso informado de morangos é maior que 5Kg, portanto, será aplicado um desconto de R$0,30/Kg')\n",
        "    preco_morango = (PRECO_KG_MORANGO - DESCONTO) * peso_morangos\n",
        "else:\n",
        "    preco_morango = PRECO_KG_MORANGO * peso_morangos\n",
        "\n",
        "if peso_macas >= 5:\n",
        "    print(f'O peso informado de maçãs é maior que 5Kg, portanto, será aplicado um desconto de R$0,30/Kg')\n",
        "    preco_maca = (PRECO_KG_MACA - DESCONTO) * peso_macas\n",
        "else:\n",
        "    preco_maca = PRECO_KG_MACA * peso_macas\n",
        "\n",
        "peso_total = peso_morangos + peso_macas\n",
        "\n",
        "if peso_total >= 8 or (preco_maca + preco_morango) >= 25:\n",
        "    preco_total = (preco_maca + preco_morango) * 0.9\n",
        "    print(f'Houve um desconto adicional de 10% no valor total.')\n",
        "else:\n",
        "    preco_total = (preco_maca + preco_morango)\n",
        "\n",
        "print(f'\\nO valor total é de R${preco_total:.2f}.')"
      ]
    },
    {
      "cell_type": "markdown",
      "metadata": {
        "id": "rTUAuC5KjWWA"
      },
      "source": [
        "# 3 - Estruturas de Repetição\n",
        "\n",
        "\n"
      ]
    },
    {
      "cell_type": "markdown",
      "metadata": {
        "id": "np0V-9lNmSE9"
      },
      "source": [
        "1 - Desenvolva um gerador de tabuada, capaz de gerar a tabuada de qualquer número inteiro entre 1 a 10. Dada uma variável k em uma célula calcular a tabuada para o número. A saída deve ser conforme o exemplo abaixo:\n",
        "\n",
        "Tabuada de 5:\n",
        "\n",
        "5 X 1 = 5\n",
        "\n",
        "5 X 2 = 10\n",
        "\n",
        "…\n",
        "\n",
        "5 X 10 = 50\n"
      ]
    },
    {
      "cell_type": "code",
      "execution_count": 27,
      "metadata": {},
      "outputs": [
        {
          "name": "stdout",
          "output_type": "stream",
          "text": [
            "5 X 1 = 5\n",
            "5 X 2 = 10\n",
            "5 X 3 = 15\n",
            "5 X 4 = 20\n",
            "5 X 5 = 25\n",
            "5 X 6 = 30\n",
            "5 X 7 = 35\n",
            "5 X 8 = 40\n",
            "5 X 9 = 45\n",
            "5 X 10 = 50\n"
          ]
        }
      ],
      "source": [
        "k = 5\n",
        "for i in range(1, 11):\n",
        "    print(f'{k} X {i} = {(i)*k}')"
      ]
    },
    {
      "cell_type": "markdown",
      "metadata": {
        "id": "5x8NzMIumTk2"
      },
      "source": [
        "2 - Utilize uma estrutura de repetição para imprimir todos os elementos das listas de temperatura e altura criadas acima."
      ]
    },
    {
      "cell_type": "markdown",
      "metadata": {
        "id": "kUDED0jImU-K"
      },
      "source": [
        "3 - Acesse chaves e valores do dicionário criado acima, e imprima cada item utilizando o operador de formatação."
      ]
    },
    {
      "cell_type": "markdown",
      "metadata": {
        "id": "2vO8GUt7jxRx"
      },
      "source": [
        "# 4 - Funções\n"
      ]
    },
    {
      "cell_type": "markdown",
      "metadata": {
        "id": "xwQff7PhkqgG"
      },
      "source": [
        "1 - Faça uma função que retorne o reverso de um número inteiro informado. Por exemplo: 127 -> 721.\n"
      ]
    },
    {
      "cell_type": "markdown",
      "metadata": {
        "id": "M-DmkIJCnNyr"
      },
      "source": [
        "2 - Faça uma função para converter, que dado um valor numérico de temperatura e um valor de caractere para a escala (Celsius ou Farenheit) converta o número para a escala desejada e retorna o valor."
      ]
    },
    {
      "cell_type": "markdown",
      "metadata": {
        "id": "sUGhrN3LnL9f"
      },
      "source": [
        "3 - Faça uma programa que converta da notação de 24 horas para a notação de 12 horas. Por exemplo, o programa deve converter 14:25 em 2:25 P.M. A entrada é dada em dois inteiros.\n"
      ]
    },
    {
      "cell_type": "markdown",
      "metadata": {
        "id": "JTzls-hBj0Kf"
      },
      "source": [
        "# 5 - Numpy"
      ]
    },
    {
      "cell_type": "markdown",
      "metadata": {
        "id": "_6joCw8Gme2T"
      },
      "source": [
        "1 - Escreva código para criar uma matriz 4 x 10, com números simulados de uma distribuição normal com média 10 e variância 5, e substitua todos os elementos da primeira coluna maiores que 12 por 0.  \n",
        "\n"
      ]
    },
    {
      "cell_type": "markdown",
      "metadata": {
        "id": "4PiF1MPbnGP6"
      },
      "source": [
        "\n",
        "2 - Crie uma matriz 3x3 com 3 alturas de 3 países e calcule o peso ideal (fórmula acima) para multiplicar e somar aos elementos da matriz."
      ]
    },
    {
      "cell_type": "markdown",
      "metadata": {
        "id": "wz1B3OFZnE_f"
      },
      "source": [
        "3 - Faça uma função que recebe dois parâmetros, uma matriz numpy e uma constante, e utiliza estruturas de repetição para multiplicar cada elemento da matriz e retorna a matriz multiplicada."
      ]
    },
    {
      "cell_type": "markdown",
      "metadata": {
        "id": "23gMbX3fj0fH"
      },
      "source": [
        "# 6 - Pandas\n",
        "\n",
        "Utilizando o conjunto de dados\n",
        "https://drive.google.com/open?id=1u1SEDTja9QC7MAj_VlQcxNtAhQfs-5YR"
      ]
    },
    {
      "cell_type": "markdown",
      "metadata": {
        "id": "C43hCCOemknY"
      },
      "source": [
        "1 - Faça uma função, que dado um dataframe com os dados acima. imprime a média e o desvio padrão das variáveis 'season' e 'holiday'.   \n",
        "\n",
        "\n",
        "\n"
      ]
    },
    {
      "cell_type": "markdown",
      "metadata": {
        "id": "BG2lCJiCm6Bi"
      },
      "source": [
        "\n",
        "2 - Crie uma nova coluna no dataframe, com o nome 'month' com o mês correspondente de cada linha da coluna 'datetime' e escreva uma função que dado um dataframe, e um valor numérico entre 1 e 12, retorna um sub-dataframe para o mês requerido."
      ]
    },
    {
      "cell_type": "markdown",
      "metadata": {
        "id": "5iMsfhtym1sU"
      },
      "source": [
        "3 - Faça um histograma da variável 'temp' e um boxplot único com a variável 'temp' em cada 'month' (no eixo x)."
      ]
    },
    {
      "cell_type": "markdown",
      "metadata": {
        "id": "h34bXDZUj0uT"
      },
      "source": [
        "# 7 - Regressão"
      ]
    },
    {
      "cell_type": "markdown",
      "metadata": {
        "id": "TsCIcJ2zmqhQ"
      },
      "source": [
        "Incluir o conjunto de dados na entrega do notebook.\n",
        "\n",
        "Em uma célula do mesmo notebook crie um texto com markdown, incluindo formatação com títulos, negrito, itálico e inclusão de figuras para explicar:\n",
        "\n",
        "Explique simplificadamente o que é o modelo de regressão e quando estes modelos podem ser utilizados.\n",
        "Apresente um pequeno exemplo numérico utilizando o que foi aprendido no curso, utilizando um conjunto de dados que não foi visto no curso (pode ser de qualquer lugar na internet) e imprimindo os seguintes resultados:\n",
        "\n",
        "R2\n",
        "Coeficientes da regressão\n",
        "\n",
        "E fazendo um gráfico com a variável resposta (eixo y) uma das variáveis preditoras (eixo x) e a reta da regressão.\n",
        "\n",
        "*Os conjuntos de dados devem ser diferentes entre os alunos\n"
      ]
    },
    {
      "cell_type": "markdown",
      "metadata": {
        "id": "A3f6q-b7j0-O"
      },
      "source": [
        "# 8 - Classificação"
      ]
    },
    {
      "cell_type": "markdown",
      "metadata": {
        "id": "aB_mr03nmt3s"
      },
      "source": [
        "Incluir o conjunto de dados na entrega do notebook.\n",
        "\n",
        "Em uma célula do mesmo notebook crie um texto com markdown, incluindo formatação com títulos, negrito, itálico e inclusão de figuras para explicar:\n",
        "\n",
        "Explique simplificadamente o que é o modelo de classificação e quando estes modelos podem ser utilizados.\n",
        "Apresente um pequeno exemplo numérico utilizando o que foi aprendido no curso, utilizando um conjunto de dados que não foi visto no curso (pode ser de qualquer lugar na internet) e imprimindo, utilizando validação cruzada, os seguintes resultados:\n",
        "Acurácia\n",
        "Matriz de confusão\n",
        "\n",
        "*Os conjuntos de dados devem ser diferentes entre os alunos\n"
      ]
    },
    {
      "cell_type": "markdown",
      "metadata": {
        "id": "4eoLO04qj1N9"
      },
      "source": [
        "# 9 - Agrupamento"
      ]
    },
    {
      "cell_type": "markdown",
      "metadata": {
        "id": "hwC9JMLjmwa_"
      },
      "source": [
        "Incluir o conjunto de dados na entrega do notebook.\n",
        "\n",
        "Em uma célula do mesmo notebook crie um texto com markdown, incluindo formatação com títulos, negrito, itálico e inclusão de figuras para explicar:\n",
        "\n",
        "Explique simplificadamente o que é o modelo de Análise de Componentes Principais (PCA) e quando estes modelos podem ser utilizados.\n",
        "Apresente um pequeno exemplo numérico utilizando o que foi aprendido no curso, utilizando um conjunto de dados que não foi visto no curso (pode ser de qualquer lugar na internet) e imprimindo, os seguintes resultados:\n",
        "Variância explicada por cada componente\n",
        "\n",
        "Faça um gráfico com os scores do PCA colorindo pelos grupos do seu conjunto de dados.\n",
        "\n",
        "*Os conjuntos de dados devem ser diferentes entre os alunos\n"
      ]
    },
    {
      "cell_type": "markdown",
      "metadata": {
        "id": "khPPxpyGj1yv"
      },
      "source": [
        "# 10 - Referências"
      ]
    },
    {
      "cell_type": "markdown",
      "metadata": {
        "id": "WPf4gJZOkDiU"
      },
      "source": [
        "https://wiki.python.org.br/ListaDeExercicios"
      ]
    },
    {
      "cell_type": "markdown",
      "metadata": {
        "id": "jcp6CQnwkDWY"
      },
      "source": []
    }
  ],
  "metadata": {
    "colab": {
      "authorship_tag": "ABX9TyMkwtQ7xWh7Fbr/hNLP/kR+",
      "include_colab_link": true,
      "provenance": []
    },
    "kernelspec": {
      "display_name": "Python 3",
      "name": "python3"
    },
    "language_info": {
      "codemirror_mode": {
        "name": "ipython",
        "version": 3
      },
      "file_extension": ".py",
      "mimetype": "text/x-python",
      "name": "python",
      "nbconvert_exporter": "python",
      "pygments_lexer": "ipython3",
      "version": "3.9.6"
    }
  },
  "nbformat": 4,
  "nbformat_minor": 0
}
