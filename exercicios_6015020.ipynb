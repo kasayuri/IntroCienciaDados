{
  "cells": [
    {
      "cell_type": "markdown",
      "metadata": {
        "colab_type": "text",
        "id": "view-in-github"
      },
      "source": [
        "<a href=\"https://colab.research.google.com/github/kasayuri/IntroCienciaDados/blob/main/exercicios_6015020.ipynb\" target=\"_parent\"><img src=\"https://colab.research.google.com/assets/colab-badge.svg\" alt=\"Open In Colab\"/></a>"
      ]
    },
    {
      "cell_type": "markdown",
      "metadata": {
        "id": "zjAYqkodivYm"
      },
      "source": [
        "# Intro\n",
        "Exercícios Propostos\n",
        "\n",
        "Para realizar os exercícios assistam ao vídeo \"Anaconda Installation\" no portal do curso\n",
        "http://seriema.fcfrp.usp.br/elearn\n",
        "\n",
        "Ter a plataforma instalada instalada no computador é parte da prática.\n",
        "\n",
        "A necessidade de instalar pacotes faz parte dos exercícios.\n",
        "\n",
        "Criem um notebook que inclui o resultado dos exercícios. O notebook no formato .ipynb deverá ser entregue na data estabelecida com todas as respostas. Será inspecionado se o código é idêntico, e os alunos serão questionados em caso positivo.\n",
        "\n",
        "\n",
        "- 1 - Estruturas de dados\t1\n",
        "- 2 - Estruturas de Decisão\t2\n",
        "- 3 - Estruturas de Repetição\t3\n",
        "- 4 - Funções\t4\n",
        "- 5 - Numpy\t4\n",
        "- 6 - Pandas\t4\n",
        "- 7 - Regressão\t5\n",
        "- 8 - Classificação\t5\n",
        "- 9 - Agrupamento\t6\n",
        "- 10 - Referências\t6\n"
      ]
    },
    {
      "cell_type": "markdown",
      "metadata": {
        "id": "GPuSpQL5i30Z"
      },
      "source": [
        "#1 - Estruturas de dados\n",
        "\n",
        "1 - Crie uma lista de temperaturas de dez países\n",
        "https://pt.wikipedia.org/wiki/Lista_de_pa%C3%ADses_por_extremos_meteorol%C3%B3gicos\n",
        "Escreva em cada célula de um notebook o acesso a elementos da lista para calcular a temperatura em graus Farenheit:\n",
        "\n",
        "C = (5 * (F-32) / 9).\n"
      ]
    },
    {
      "cell_type": "code",
      "execution_count": 61,
      "metadata": {},
      "outputs": [
        {
          "name": "stdout",
          "output_type": "stream",
          "text": [
            "A temperatura 50.0ºC em Fahrenheit é 122.00ºF.\n",
            "A temperatura 51.3ºC em Fahrenheit é 124.34ºF.\n",
            "A temperatura 44.0ºC em Fahrenheit é 111.20ºF.\n",
            "A temperatura 47.2ºC em Fahrenheit é 116.96ºF.\n",
            "A temperatura 47.6ºC em Fahrenheit é 117.68ºF.\n",
            "A temperatura 51.0ºC em Fahrenheit é 123.80ºF.\n",
            "A temperatura 43.3ºC em Fahrenheit é 109.94ºF.\n",
            "A temperatura 48.2ºC em Fahrenheit é 118.76ºF.\n",
            "A temperatura 46.4ºC em Fahrenheit é 115.52ºF.\n",
            "A temperatura 49.7ºC em Fahrenheit é 121.46ºF.\n"
          ]
        }
      ],
      "source": [
        "lista_temperaturas = [50.0, 51.3, 44.0, 47.2, 47.6, 51.0, 43.3, 48.2, 46.4, 49.7]\n",
        "\n",
        "for temp_max in lista_temperaturas:\n",
        "    fahrenheit = (temp_max * 9/5) + 32\n",
        "    print(f\"A temperatura {temp_max}ºC em Fahrenheit é {fahrenheit:.2f}ºF.\")\n"
      ]
    },
    {
      "cell_type": "markdown",
      "metadata": {
        "id": "JF-DoyWXlRlH"
      },
      "source": [
        "2 - Tendo como dados de entrada a altura média por país\n",
        "https://pt.wikipedia.org/wiki/Estatura\n",
        "crie um dicionário com 10 países, com chave como nome do país e valor como altura média, imprima em cada linha de um notebook o peso ideal:\n",
        "\n",
        "(72.7*altura) - 58\n",
        "\n",
        "por país, utilizando o dicionário e o operador de formatação (f'').\n"
      ]
    },
    {
      "cell_type": "code",
      "execution_count": 60,
      "metadata": {},
      "outputs": [
        {
          "name": "stdout",
          "output_type": "stream",
          "text": [
            "O peso ideal de Alemanha é 120.10kg.\n",
            "O peso ideal de Brasil é 114.29kg.\n",
            "O peso ideal de Peru é 112.42kg.\n",
            "O peso ideal de Coreia do Norte é 111.45kg.\n",
            "O peso ideal de Finlândia é 119.16kg.\n",
            "O peso ideal de Suécia é 120.83kg.\n",
            "O peso ideal de Malawi é 112.11kg.\n",
            "O peso ideal de Alpes Dináricos é 123.52kg.\n",
            "O peso ideal de Indonésia é 112.40kg.\n",
            "O peso ideal de Singapura é 115.74kg.\n"
          ]
        }
      ],
      "source": [
        "paises = ['Alemanha', 'Brasil', 'Peru', 'Coreia do Norte', 'Finlândia', 'Suécia', 'Malawi', 'Alpes Dináricos', 'Indonésia', 'Singapura']\n",
        "altura_media_mulheres = [166.0, 158.0, 155.44, 154.1, 164.7, 167.0, 155.0, 170.7, 155.4, 160.0]\n",
        "dict_alturas = dict(zip(paises, altura_media_mulheres))\n",
        "\n",
        "for key, value in dict_alturas.items():\n",
        "    print(f\"O peso ideal de {key} é { ((value * 72.7) - 58)/ 100:.2f}kg.\")\n"
      ]
    },
    {
      "cell_type": "markdown",
      "metadata": {
        "id": "7Z0NjpCtlKcK"
      },
      "source": [
        "3 - Faça a conversão do valor de bolsas de pós-graduação de três países para Reais, imprimindo o salário de uma jornada de 40h semanais:\n",
        "https://exame.abril.com.br/carreira/confira-63-bolsas-para-estudar-em-paises-como-canada-eua-e-alemanha/\n",
        "\n",
        "- Por hora trabalhada;\n",
        "\n",
        "- Por mês;\n",
        "\n",
        "- Por ano."
      ]
    },
    {
      "cell_type": "markdown",
      "metadata": {},
      "source": [
        "```\n",
        "> Alemanha - DAAD - €750 / mês\n",
        "\n",
        "> Dinamarca - 6500 coroas dinamarquesas / mês\n",
        "\n",
        "> Reino Unido - Oxford - 2500 libras para mestrado / mês\n",
        "\n",
        "```"
      ]
    },
    {
      "cell_type": "code",
      "execution_count": 23,
      "metadata": {},
      "outputs": [
        {
          "name": "stdout",
          "output_type": "stream",
          "text": [
            "O salário de uma jornada de 40 semanais da bolsa de pós-graduação em Alemanha é:\n",
            "- R$ 6.45/hora.\n",
            "- R$ 4,642.50/mês.\n",
            "- R$ 55,710.00/ano.\n",
            "\n",
            "O salário de uma jornada de 40 semanais da bolsa de pós-graduação em Dinamarca é:\n",
            "- R$ 7.49/hora.\n",
            "- R$ 5,395.00/mês.\n",
            "- R$ 64,740.00/ano.\n",
            "\n",
            "O salário de uma jornada de 40 semanais da bolsa de pós-graduação em Reino Unido é:\n",
            "- R$ 25.56/hora.\n",
            "- R$ 18,400.00/mês.\n",
            "- R$ 220,800.00/ano.\n",
            "\n"
          ]
        }
      ],
      "source": [
        "COTACAO_EURO = 6.19\n",
        "COTACAO_COROASDINAMARQUESAS = 0.83\n",
        "COTACAO_LIBRAS = 7.36\n",
        "\n",
        "def imprimeSalario(pais, salario):\n",
        "    print(f'O salário de uma jornada de 40 semanais da bolsa de pós-graduação em {pais} é:')\n",
        "    print(f'- R$ {salario / (24*30):,.2f}/hora.')\n",
        "    print(f'- R$ {salario :,.2f}/mês.')\n",
        "    print(f'- R$ {salario * 12:,.2f}/ano.\\n')\n",
        "\n",
        "imprimeSalario('Alemanha', 750 * COTACAO_EURO)\n",
        "imprimeSalario('Dinamarca', 6500 * COTACAO_COROASDINAMARQUESAS)\n",
        "imprimeSalario('Reino Unido', 2500 * COTACAO_LIBRAS)\n",
        "\n"
      ]
    },
    {
      "cell_type": "markdown",
      "metadata": {
        "id": "neT8Br0NjAly"
      },
      "source": [
        "# 2 - Estruturas de Decisão\n",
        "\n"
      ]
    },
    {
      "cell_type": "markdown",
      "metadata": {
        "id": "qWEMcICMlire"
      },
      "source": [
        "1 - Escreva código em uma célula, para, dado o elemento de uma lista de temperaturas acima, imprimir \"está frio\" se a temperatura for menor que um valor de uma variável t definida por você ou \"está calor\" caso contrário.\n"
      ]
    },
    {
      "cell_type": "code",
      "execution_count": 62,
      "metadata": {},
      "outputs": [
        {
          "name": "stdout",
          "output_type": "stream",
          "text": [
            "Está frio: 10.0ºC\n",
            "Está quente: 21.3ºC\n",
            "Está quente: 34.0ºC\n",
            "Está quente: 37.2ºC\n",
            "Está quente: 27.6ºC\n",
            "Está frio: 11.0ºC\n",
            "Está quente: 33.3ºC\n",
            "Está quente: 18.2ºC\n",
            "Está quente: 26.4ºC\n",
            "Está frio: 9.7ºC\n"
          ]
        }
      ],
      "source": [
        "lista_temperaturas = [10.0, 21.3, 34.0, 37.2, 27.6, 11.0, 33.3, 18.2, 26.4, 9.7]\n",
        "t = 13\n",
        "for i in range(len(lista_temperaturas)):\n",
        "    descricao = 'frio'\n",
        "    if lista_temperaturas[i] > t:\n",
        "        descricao = 'quente'\n",
        "\n",
        "    print(f'Está {descricao}: {lista_temperaturas[i]}ºC')"
      ]
    },
    {
      "cell_type": "markdown",
      "metadata": {
        "id": "124skiBulliw"
      },
      "source": [
        "2 - Um posto está vendendo combustíveis com a seguinte tabela de descontos:\n",
        "Álcool:\n",
        "até 20 litros, desconto de 3% por litro\n",
        "acima de 20 litros, desconto de 5% por litro\n",
        "Gasolina:\n",
        "até 20 litros, desconto de 4% por litro\n",
        "acima de 20 litros, desconto de 6% por litro\n",
        "\n",
        "|  | Até 20 litros | Acima de 20 litros |\n",
        "| --- | --- | --- |\n",
        "| Álcool | 3% desconto/litro | 5% desconto/litro |\n",
        "| Gasolina | 4% desconto/litro | 6% desconto/litro |\n",
        "\n",
        "Escreva um código que leia o número de litros vendidos, o tipo de combustível (codificado da seguinte forma: A-álcool, G-gasolina), calcule e imprima o valor a ser pago pelo cliente sabendo-se que o preço do litro da gasolina é R$ 2,50 o preço do litro do álcool é R$ 1,90.\n",
        "\n"
      ]
    },
    {
      "cell_type": "code",
      "execution_count": 37,
      "metadata": {},
      "outputs": [
        {
          "name": "stdout",
          "output_type": "stream",
          "text": [
            "O valor a ser pago por A é R$ 18.43\n"
          ]
        }
      ],
      "source": [
        "PRECO_GASOLINA = 2.50\n",
        "PRECO_ALCOOL = 1.90\n",
        "\n",
        "litros = float(input('Digite os litros vendidos: '))\n",
        "combustivel = input('Digite o tipo de combustível (G para gasolina e A para álcool): ')\n",
        "\n",
        "if (combustivel != 'G' and combustivel != 'A'):\n",
        "    print('Combustível inválido')\n",
        "elif (litros < 20):\n",
        "    print(f'O valor a ser pago por {combustivel} é R$ {litros * (PRECO_GASOLINA * 0.96 if combustivel == \"G\" else PRECO_ALCOOL * 0.97)}')\n",
        "else:\n",
        "    print(f'O valor a ser pago por {combustivel} é R$ {litros * (PRECO_GASOLINA * 0.95 if combustivel == \"G\" else PRECO_ALCOOL * 0.94)}')\n"
      ]
    },
    {
      "cell_type": "markdown",
      "metadata": {
        "id": "buptg8wflnAN"
      },
      "source": [
        "3 - Uma fruteira está vendendo frutas com a seguinte tabela de preços:\n",
        "\n",
        "\n",
        "| Fruta | Até 5 Kg | Acima de 5 Kg |\n",
        "| --- | --- | --- |\n",
        "| Morango | RS 2,50 por Kg | RS 2,20 por Kg |\n",
        "| Maçã | RS 1,80 por Kg | RS 1,50 por Kg |\n",
        "\n",
        "\n",
        "\n",
        "\n",
        "Se o cliente comprar mais de 8 Kg em frutas ou o valor total da compra ultrapassar R$ 25,00, receberá ainda um desconto de 10% sobre este total. Escreva código para ler a quantidade (em Kg) de morangos e a quantidade (em Kg) de maças adquiridas e escreva o valor a ser pago pelo cliente.\n"
      ]
    },
    {
      "cell_type": "code",
      "execution_count": 1,
      "metadata": {},
      "outputs": [
        {
          "name": "stdout",
          "output_type": "stream",
          "text": [
            "Foi informado 4.0Kg de morangos.\n",
            "Foi informado 5.0Kg de maçãs.\n",
            "O peso informado de maçãs é maior que 5Kg, portanto, será aplicado um desconto de R$0,30/Kg\n",
            "Houve um desconto adicional de 10% no valor total.\n",
            "\n",
            "O valor total é de R$15.75.\n"
          ]
        }
      ],
      "source": [
        "PRECO_KG_MORANGO = 2.5\n",
        "PRECO_KG_MACA = 1.8\n",
        "DESCONTO = 0.3\n",
        "\n",
        "peso_morangos = float(input('Informe a quantidade de morangos (em Kg):'))\n",
        "print(f'Foi informado {peso_morangos}Kg de morangos.')\n",
        "peso_macas = float(input('Informe a quantidade de maçãs (em Kg):'))\n",
        "print(f'Foi informado {peso_macas}Kg de maçãs.')\n",
        "\n",
        "if peso_morangos >= 5:\n",
        "    print(f'O peso informado de morangos é maior que 5Kg, portanto, será aplicado um desconto de R$0,30/Kg')\n",
        "    preco_morango = (PRECO_KG_MORANGO - DESCONTO) * peso_morangos\n",
        "else:\n",
        "    preco_morango = PRECO_KG_MORANGO * peso_morangos\n",
        "\n",
        "if peso_macas >= 5:\n",
        "    print(f'O peso informado de maçãs é maior que 5Kg, portanto, será aplicado um desconto de R$0,30/Kg')\n",
        "    preco_maca = (PRECO_KG_MACA - DESCONTO) * peso_macas\n",
        "else:\n",
        "    preco_maca = PRECO_KG_MACA * peso_macas\n",
        "\n",
        "peso_total = peso_morangos + peso_macas\n",
        "\n",
        "if peso_total >= 8 or (preco_maca + preco_morango) >= 25:\n",
        "    preco_total = (preco_maca + preco_morango) * 0.9\n",
        "    print(f'Houve um desconto adicional de 10% no valor total.')\n",
        "else:\n",
        "    preco_total = (preco_maca + preco_morango)\n",
        "\n",
        "print(f'\\nO valor total é de R${preco_total:.2f}.')"
      ]
    },
    {
      "cell_type": "markdown",
      "metadata": {
        "id": "rTUAuC5KjWWA"
      },
      "source": [
        "# 3 - Estruturas de Repetição\n",
        "\n",
        "\n"
      ]
    },
    {
      "cell_type": "markdown",
      "metadata": {
        "id": "np0V-9lNmSE9"
      },
      "source": [
        "1 - Desenvolva um gerador de tabuada, capaz de gerar a tabuada de qualquer número inteiro entre 1 a 10. Dada uma variável k em uma célula calcular a tabuada para o número. A saída deve ser conforme o exemplo abaixo:\n",
        "\n",
        "Tabuada de 5:\n",
        "\n",
        "5 X 1 = 5\n",
        "\n",
        "5 X 2 = 10\n",
        "\n",
        "…\n",
        "\n",
        "5 X 10 = 50\n"
      ]
    },
    {
      "cell_type": "code",
      "execution_count": 57,
      "metadata": {},
      "outputs": [
        {
          "name": "stdout",
          "output_type": "stream",
          "text": [
            "5 X 1 = 5\n",
            "5 X 2 = 10\n",
            "5 X 3 = 15\n",
            "5 X 4 = 20\n",
            "5 X 5 = 25\n",
            "5 X 6 = 30\n",
            "5 X 7 = 35\n",
            "5 X 8 = 40\n",
            "5 X 9 = 45\n",
            "5 X 10 = 50\n"
          ]
        }
      ],
      "source": [
        "k = int(input('Digite um número para ver a tabuada: '))\n",
        "for i in range(1, 11):\n",
        "    print(f'{k} X {i} = {(i)*k}')"
      ]
    },
    {
      "cell_type": "markdown",
      "metadata": {
        "id": "5x8NzMIumTk2"
      },
      "source": [
        "2 - Utilize uma estrutura de repetição para imprimir todos os elementos das listas de temperatura e altura criadas acima."
      ]
    },
    {
      "cell_type": "code",
      "execution_count": 63,
      "metadata": {},
      "outputs": [
        {
          "name": "stdout",
          "output_type": "stream",
          "text": [
            "Temperaturas:\n",
            "10.0ºC.\n",
            "21.3ºC.\n",
            "34.0ºC.\n",
            "37.2ºC.\n",
            "27.6ºC.\n",
            "11.0ºC.\n",
            "33.3ºC.\n",
            "18.2ºC.\n",
            "26.4ºC.\n",
            "9.7ºC.\n",
            "\n",
            "Alturas:\n",
            "166.0cm.\n",
            "158.0cm.\n",
            "155.44cm.\n",
            "154.1cm.\n",
            "164.7cm.\n",
            "167.0cm.\n",
            "155.0cm.\n",
            "170.7cm.\n",
            "155.4cm.\n",
            "160.0cm.\n"
          ]
        }
      ],
      "source": [
        "print('Temperaturas:')\n",
        "for i in range(len(lista_temperaturas)):\n",
        "    print(f'{lista_temperaturas[i]}ºC.')\n",
        "\n",
        "print('\\nAlturas:')\n",
        "for i in range(len(altura_media_mulheres)):\n",
        "    print(f'{altura_media_mulheres[i]}cm.')"
      ]
    },
    {
      "cell_type": "markdown",
      "metadata": {
        "id": "kUDED0jImU-K"
      },
      "source": [
        "3 - Acesse chaves e valores do dicionário criado acima, e imprima cada item utilizando o operador de formatação."
      ]
    },
    {
      "cell_type": "code",
      "execution_count": 64,
      "metadata": {},
      "outputs": [
        {
          "name": "stdout",
          "output_type": "stream",
          "text": [
            "Alemanha - 166.0cm\n",
            "Brasil - 158.0cm\n",
            "Peru - 155.44cm\n",
            "Coreia do Norte - 154.1cm\n",
            "Finlândia - 164.7cm\n",
            "Suécia - 167.0cm\n",
            "Malawi - 155.0cm\n",
            "Alpes Dináricos - 170.7cm\n",
            "Indonésia - 155.4cm\n",
            "Singapura - 160.0cm\n"
          ]
        }
      ],
      "source": [
        "for pais, alturaMediaMulheres in dict_alturas.items() :\n",
        "    print(f'{pais} - {alturaMediaMulheres}cm')"
      ]
    },
    {
      "cell_type": "markdown",
      "metadata": {
        "id": "2vO8GUt7jxRx"
      },
      "source": [
        "# 4 - Funções\n"
      ]
    },
    {
      "cell_type": "markdown",
      "metadata": {
        "id": "xwQff7PhkqgG"
      },
      "source": [
        "1 - Faça uma função que retorne o reverso de um número inteiro informado. Por exemplo: 127 -> 721.\n"
      ]
    },
    {
      "cell_type": "code",
      "execution_count": 66,
      "metadata": {},
      "outputs": [
        {
          "name": "stdout",
          "output_type": "stream",
          "text": [
            "O número 127 invertido é 721\n"
          ]
        }
      ],
      "source": [
        "def reverte_numero(numero):\n",
        "    return int(str(numero)[::-1])\n",
        "\n",
        "numero = int(input('Digite um número: '))\n",
        "print(f'O número {numero} invertido é {reverte_numero(numero)}')\n"
      ]
    },
    {
      "cell_type": "markdown",
      "metadata": {
        "id": "M-DmkIJCnNyr"
      },
      "source": [
        "2 - Faça uma função para converter, que dado um valor numérico de temperatura e um valor de caractere para a escala (Celsius ou Farenheit) converta o número para a escala desejada e retorna o valor."
      ]
    },
    {
      "cell_type": "code",
      "execution_count": null,
      "metadata": {},
      "outputs": [],
      "source": [
        "def converte_escala(temperatura, escala):\n",
        "    if escala == 'C':\n",
        "        return (temperatura * 9/5) + 32\n",
        "    else:\n",
        "        return (temperatura - 32) * 5/9\n",
        "\n",
        "temperatura = float(input('Digite a temperatura: '))\n",
        "escala = input('Digite a escala (C para Celsius e F para Fahrenheit): ')\n",
        "\n",
        "print(f'A temperatura {temperatura}º{escala} é {converte_escala(temperatura, escala)}º{escala}')"
      ]
    },
    {
      "cell_type": "markdown",
      "metadata": {
        "id": "sUGhrN3LnL9f"
      },
      "source": [
        "3 - Faça uma programa que converta da notação de 24 horas para a notação de 12 horas. Por exemplo, o programa deve converter 14:25 em 2:25 P.M. A entrada é dada em dois inteiros.\n"
      ]
    },
    {
      "cell_type": "markdown",
      "metadata": {
        "id": "JTzls-hBj0Kf"
      },
      "source": [
        "# 5 - Numpy"
      ]
    },
    {
      "cell_type": "markdown",
      "metadata": {
        "id": "_6joCw8Gme2T"
      },
      "source": [
        "1 - Escreva código para criar uma matriz 4 x 10, com números simulados de uma distribuição normal com média 10 e variância 5, e substitua todos os elementos da primeira coluna maiores que 12 por 0.  \n",
        "\n"
      ]
    },
    {
      "cell_type": "markdown",
      "metadata": {
        "id": "4PiF1MPbnGP6"
      },
      "source": [
        "\n",
        "2 - Crie uma matriz 3x3 com 3 alturas de 3 países e calcule o peso ideal (fórmula acima) para multiplicar e somar aos elementos da matriz."
      ]
    },
    {
      "cell_type": "markdown",
      "metadata": {
        "id": "wz1B3OFZnE_f"
      },
      "source": [
        "3 - Faça uma função que recebe dois parâmetros, uma matriz numpy e uma constante, e utiliza estruturas de repetição para multiplicar cada elemento da matriz e retorna a matriz multiplicada."
      ]
    },
    {
      "cell_type": "markdown",
      "metadata": {
        "id": "23gMbX3fj0fH"
      },
      "source": [
        "# 6 - Pandas\n",
        "\n",
        "Utilizando o conjunto de dados\n",
        "https://drive.google.com/open?id=1u1SEDTja9QC7MAj_VlQcxNtAhQfs-5YR"
      ]
    },
    {
      "cell_type": "markdown",
      "metadata": {
        "id": "C43hCCOemknY"
      },
      "source": [
        "1 - Faça uma função, que dado um dataframe com os dados acima. imprime a média e o desvio padrão das variáveis 'season' e 'holiday'.   \n",
        "\n",
        "\n",
        "\n"
      ]
    },
    {
      "cell_type": "markdown",
      "metadata": {
        "id": "BG2lCJiCm6Bi"
      },
      "source": [
        "\n",
        "2 - Crie uma nova coluna no dataframe, com o nome 'month' com o mês correspondente de cada linha da coluna 'datetime' e escreva uma função que dado um dataframe, e um valor numérico entre 1 e 12, retorna um sub-dataframe para o mês requerido."
      ]
    },
    {
      "cell_type": "markdown",
      "metadata": {
        "id": "5iMsfhtym1sU"
      },
      "source": [
        "3 - Faça um histograma da variável 'temp' e um boxplot único com a variável 'temp' em cada 'month' (no eixo x)."
      ]
    },
    {
      "cell_type": "markdown",
      "metadata": {
        "id": "h34bXDZUj0uT"
      },
      "source": [
        "# 7 - Regressão"
      ]
    },
    {
      "cell_type": "markdown",
      "metadata": {
        "id": "TsCIcJ2zmqhQ"
      },
      "source": [
        "Incluir o conjunto de dados na entrega do notebook.\n",
        "\n",
        "Em uma célula do mesmo notebook crie um texto com markdown, incluindo formatação com títulos, negrito, itálico e inclusão de figuras para explicar:\n",
        "\n",
        "Explique simplificadamente o que é o modelo de regressão e quando estes modelos podem ser utilizados.\n",
        "Apresente um pequeno exemplo numérico utilizando o que foi aprendido no curso, utilizando um conjunto de dados que não foi visto no curso (pode ser de qualquer lugar na internet) e imprimindo os seguintes resultados:\n",
        "\n",
        "R2\n",
        "Coeficientes da regressão\n",
        "\n",
        "E fazendo um gráfico com a variável resposta (eixo y) uma das variáveis preditoras (eixo x) e a reta da regressão.\n",
        "\n",
        "*Os conjuntos de dados devem ser diferentes entre os alunos\n"
      ]
    },
    {
      "cell_type": "markdown",
      "metadata": {
        "id": "A3f6q-b7j0-O"
      },
      "source": [
        "# 8 - Classificação"
      ]
    },
    {
      "cell_type": "markdown",
      "metadata": {
        "id": "aB_mr03nmt3s"
      },
      "source": [
        "Incluir o conjunto de dados na entrega do notebook.\n",
        "\n",
        "Em uma célula do mesmo notebook crie um texto com markdown, incluindo formatação com títulos, negrito, itálico e inclusão de figuras para explicar:\n",
        "\n",
        "Explique simplificadamente o que é o modelo de classificação e quando estes modelos podem ser utilizados.\n",
        "Apresente um pequeno exemplo numérico utilizando o que foi aprendido no curso, utilizando um conjunto de dados que não foi visto no curso (pode ser de qualquer lugar na internet) e imprimindo, utilizando validação cruzada, os seguintes resultados:\n",
        "Acurácia\n",
        "Matriz de confusão\n",
        "\n",
        "*Os conjuntos de dados devem ser diferentes entre os alunos\n"
      ]
    },
    {
      "cell_type": "markdown",
      "metadata": {
        "id": "4eoLO04qj1N9"
      },
      "source": [
        "# 9 - Agrupamento"
      ]
    },
    {
      "cell_type": "markdown",
      "metadata": {
        "id": "hwC9JMLjmwa_"
      },
      "source": [
        "Incluir o conjunto de dados na entrega do notebook.\n",
        "\n",
        "Em uma célula do mesmo notebook crie um texto com markdown, incluindo formatação com títulos, negrito, itálico e inclusão de figuras para explicar:\n",
        "\n",
        "Explique simplificadamente o que é o modelo de Análise de Componentes Principais (PCA) e quando estes modelos podem ser utilizados.\n",
        "Apresente um pequeno exemplo numérico utilizando o que foi aprendido no curso, utilizando um conjunto de dados que não foi visto no curso (pode ser de qualquer lugar na internet) e imprimindo, os seguintes resultados:\n",
        "Variância explicada por cada componente\n",
        "\n",
        "Faça um gráfico com os scores do PCA colorindo pelos grupos do seu conjunto de dados.\n",
        "\n",
        "*Os conjuntos de dados devem ser diferentes entre os alunos\n"
      ]
    },
    {
      "cell_type": "markdown",
      "metadata": {
        "id": "khPPxpyGj1yv"
      },
      "source": [
        "# 10 - Referências"
      ]
    },
    {
      "cell_type": "markdown",
      "metadata": {
        "id": "WPf4gJZOkDiU"
      },
      "source": [
        "https://wiki.python.org.br/ListaDeExercicios"
      ]
    },
    {
      "cell_type": "markdown",
      "metadata": {
        "id": "jcp6CQnwkDWY"
      },
      "source": []
    }
  ],
  "metadata": {
    "colab": {
      "authorship_tag": "ABX9TyMkwtQ7xWh7Fbr/hNLP/kR+",
      "include_colab_link": true,
      "provenance": []
    },
    "kernelspec": {
      "display_name": "Python 3",
      "name": "python3"
    },
    "language_info": {
      "codemirror_mode": {
        "name": "ipython",
        "version": 3
      },
      "file_extension": ".py",
      "mimetype": "text/x-python",
      "name": "python",
      "nbconvert_exporter": "python",
      "pygments_lexer": "ipython3",
      "version": "3.9.6"
    }
  },
  "nbformat": 4,
  "nbformat_minor": 0
}
